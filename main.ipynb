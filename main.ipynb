{
 "cells": [
  {
   "cell_type": "code",
   "execution_count": null,
   "id": "96345674",
   "metadata": {},
   "outputs": [],
   "source": [
    "import argparse\n",
    "import sys\n",
    "sys.path.insert(0, '/content/st-gcn-master')"
   ]
  },
  {
   "cell_type": "code",
   "execution_count": null,
   "id": "fc98cd1c",
   "metadata": {},
   "outputs": [],
   "source": [
    "# torchlight\n",
    "import torchlight\n",
    "from torchlight import import_class"
   ]
  },
  {
   "cell_type": "code",
   "execution_count": null,
   "id": "cb4af35c",
   "metadata": {},
   "outputs": [],
   "source": [
    "if __name__ == '__main__':\n",
    "\n",
    "    parser = argparse.ArgumentParser(description='Processor collection')\n",
    "\n",
    "    # region register processor yapf: disable\n",
    "    processors = dict()\n",
    "    processors['recognition'] = import_class('processor.recognition.REC_Processor')\n",
    "    processors['demo_old'] = import_class('processor.demo_old.Demo')\n",
    "    processors['demo'] = import_class('processor.demo_realtime.DemoRealtime')\n",
    "    processors['demo_offline'] = import_class('processor.demo_offline.DemoOffline')\n",
    "    #endregion yapf: enable\n",
    "\n",
    "    # add sub-parser\n",
    "    subparsers = parser.add_subparsers(dest='processor')\n",
    "    for k, p in processors.items():\n",
    "        subparsers.add_parser(k, parents=[p.get_parser()])\n",
    "\n",
    "    # read arguments\n",
    "    arg = parser.parse_args()\n",
    "\n",
    "    # start\n",
    "    Processor = processors[arg.processor]\n",
    "    p = Processor(sys.argv[2:])\n",
    "\n",
    "    p.start()"
   ]
  }
 ],
 "metadata": {
  "jupytext": {
   "cell_metadata_filter": "-all",
   "executable": "/usr/bin/env python",
   "main_language": "python",
   "notebook_metadata_filter": "-all"
  }
 },
 "nbformat": 4,
 "nbformat_minor": 5
}
